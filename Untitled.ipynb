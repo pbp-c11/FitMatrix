{
 "cells": [
  {
   "cell_type": "code",
   "execution_count": null,
   "id": "0bab6049",
   "metadata": {
    "vscode": {
     "languageId": "plaintext"
    }
   },
   "outputs": [],
   "source": [
    "#tes"
   ]
  }
 ],
 "metadata": {
  "language_info": {
   "name": "python"
  }
 },
 "nbformat": 4,
 "nbformat_minor": 5
}
